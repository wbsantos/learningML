{
  "nbformat": 4,
  "nbformat_minor": 0,
  "metadata": {
    "colab": {
      "name": "4 - Visualização",
      "version": "0.3.2",
      "provenance": [],
      "collapsed_sections": [],
      "include_colab_link": true
    },
    "kernelspec": {
      "name": "python3",
      "display_name": "Python 3"
    }
  },
  "cells": [
    {
      "cell_type": "markdown",
      "metadata": {
        "id": "view-in-github",
        "colab_type": "text"
      },
      "source": [
        "<a href=\"https://colab.research.google.com/github/williamwbs/learningML/blob/master/01.Introdu%C3%A7%C3%A3o/Visualiza%C3%A7%C3%A3o.ipynb\" target=\"_parent\"><img src=\"https://colab.research.google.com/assets/colab-badge.svg\" alt=\"Open In Colab\"/></a>"
      ]
    },
    {
      "cell_type": "markdown",
      "metadata": {
        "id": "qP2dRQGI4aBx",
        "colab_type": "text"
      },
      "source": [
        "# Visualização de Dados usando Python\n",
        "\n",
        "Uma das técnicas mais importantes aplicadas em aprendizado de máquina e estatística em geral. Permite capturar comportamentos e entender melhor os dados que estão sendo processados.\n",
        "\n",
        "**Referência:** https://machinelearningmastery.com/data-visualization-methods-in-python/"
      ]
    },
    {
      "cell_type": "markdown",
      "metadata": {
        "id": "dAbY6Gs84WU-",
        "colab_type": "text"
      },
      "source": [
        "## Matplotlib\n",
        "É uma das bibliotecas em python mais famosas para geração de gráficos em geral."
      ]
    },
    {
      "cell_type": "code",
      "metadata": {
        "id": "1VDO1tqw5Ofk",
        "colab_type": "code",
        "colab": {}
      },
      "source": [
        "from matplotlib import pyplot"
      ],
      "execution_count": 0,
      "outputs": []
    },
    {
      "cell_type": "markdown",
      "metadata": {
        "id": "e66al-oN5Q1g",
        "colab_type": "text"
      },
      "source": [
        "Existe uma convenção em que normalmente se relacione a biblioteca à um nome mais curto \"plt\""
      ]
    },
    {
      "cell_type": "code",
      "metadata": {
        "id": "5zaH2UXv5hiZ",
        "colab_type": "code",
        "colab": {}
      },
      "source": [
        "from matplotlib import pyplot as plt"
      ],
      "execution_count": 0,
      "outputs": []
    },
    {
      "cell_type": "markdown",
      "metadata": {
        "id": "vPZhsfof5yS2",
        "colab_type": "text"
      },
      "source": [
        "Para utilização do recurso neste ambiente de desenvolvimento (colab ou jupyter notebook), é importante executar o seguinte comando."
      ]
    },
    {
      "cell_type": "code",
      "metadata": {
        "id": "cUMFiOo-54i-",
        "colab_type": "code",
        "colab": {}
      },
      "source": [
        "%matplotlib inline"
      ],
      "execution_count": 0,
      "outputs": []
    },
    {
      "cell_type": "markdown",
      "metadata": {
        "id": "3AxMMOnc6S5e",
        "colab_type": "text"
      },
      "source": [
        "## Gráfico de linhas"
      ]
    },
    {
      "cell_type": "markdown",
      "metadata": {
        "id": "bEgplrcU_T1w",
        "colab_type": "text"
      },
      "source": [
        "Um gráfico de linhas é geralmente usado para apresentar observações coletadas em intervalos regulares.\n",
        "\n",
        "O eixo $x$ representa o intervalo regular (por exemplo, o tempo). O eixo $y$ mostra as observações, ordenadas pelo eixo $x$ e conectadas por uma linha.\n",
        "\n",
        "Os gráficos de linhas são úteis para apresentar dados de séries temporais, bem como quaisquer dados de sequência, onde há uma ordenação entre observações."
      ]
    },
    {
      "cell_type": "code",
      "metadata": {
        "id": "Zn1O5HRU6ICf",
        "colab_type": "code",
        "outputId": "a92d72e2-9849-4fb1-f93b-03ad376527a2",
        "colab": {
          "base_uri": "https://localhost:8080/",
          "height": 269
        }
      },
      "source": [
        "# Exemplo de plot de linha\n",
        "from numpy import sin\n",
        "from numpy import cos\n",
        "from numpy import tan\n",
        "from matplotlib import pyplot\n",
        "# Intervalo de valores para o eixo x\n",
        "x = [x*0.1 for x in range(100)]\n",
        "# Calcula valores de y (nesse caso, o seno)\n",
        "ysin = sin(x)\n",
        "ycos = cos(x)\n",
        "ytan = tan(x)\n",
        "\n",
        "\n",
        "# Cria o gráfico\n",
        "plt.plot(x, ysin)\n",
        "plt.plot(x, ycos)\n",
        "#plt.plot(x, ytan)\n",
        "\n",
        "# Mostra o gráfico\n",
        "plt.show()"
      ],
      "execution_count": 15,
      "outputs": [
        {
          "output_type": "display_data",
          "data": {
            "image/png": "[encoded data removed]",
            "text/plain": [
              "<Figure size 432x288 with 1 Axes>"
            ]
          },
          "metadata": {
            "tags": []
          }
        }
      ]
    },
    {
      "cell_type": "markdown",
      "metadata": {
        "colab_type": "text",
        "id": "R3vgRT8f6Xmf"
      },
      "source": [
        "## Plot de barras"
      ]
    },
    {
      "cell_type": "markdown",
      "metadata": {
        "id": "ntbNqCxaEGdE",
        "colab_type": "text"
      },
      "source": [
        "Um gráfico de barras é geralmente usado para apresentar quantidades relativas para várias categorias.\n",
        "\n",
        "O eixo x representa as categorias e são espaçadas uniformemente. O eixo y representa a quantidade de cada categoria e é desenhado como uma barra da linha de base até o nível apropriado no eixo y.\n",
        "\n",
        "Um gráfico de barras pode ser criado chamando a função $bar()$ e passando os nomes das categorias para o eixo $x$ e as quantidades para o eixo $y$.\n",
        "\n",
        "Gráficos de barras podem ser úteis para comparar várias grandezas pontuais ou estimativas."
      ]
    },
    {
      "cell_type": "code",
      "metadata": {
        "id": "UA-tIHNJ6a8D",
        "colab_type": "code",
        "outputId": "d50f1204-30ee-4814-d17b-87c7b93cde3c",
        "colab": {
          "base_uri": "https://localhost:8080/",
          "height": 269
        }
      },
      "source": [
        "# Exemplo de plot de barras\n",
        "from random import seed\n",
        "from random import randint\n",
        "from matplotlib import pyplot as plt\n",
        "# Atribui semente para geração de valores aleatórios\n",
        "seed(123456)\n",
        "\n",
        "# Nomes fictícios para categorias (esses serão o nosso eixo x)\n",
        "x = ['red', 'green', 'blue']\n",
        "\n",
        "# Cria valores de resposta y\n",
        "y = [randint(0, 100), randint(0, 100), randint(0, 100)]\n",
        "\n",
        "# Cria gráfico de barras\n",
        "plt.bar(x, y)\n",
        "plt.show()"
      ],
      "execution_count": 1,
      "outputs": [
        {
          "output_type": "display_data",
          "data": {
            "image/png": "[encoded data removed]",
            "text/plain": [
              "<Figure size 432x288 with 1 Axes>"
            ]
          },
          "metadata": {
            "tags": []
          }
        }
      ]
    },
    {
      "cell_type": "markdown",
      "metadata": {
        "colab_type": "text",
        "id": "vlBdUpMp6X1l"
      },
      "source": [
        "## Histograma"
      ]
    },
    {
      "cell_type": "markdown",
      "metadata": {
        "id": "sj__m9VzElUE",
        "colab_type": "text"
      },
      "source": [
        "Um histograma é geralmente usado para resumir a distribuição de uma amostra de dados.\n",
        "\n",
        "O eixo $x$ representa compartimentos discretos ou intervalos para as observações. Por exemplo, observações com valores entre 1 e 10 podem ser divididas em cinco categorias, os valores [1, 2] seriam alocados para o primeiro bin, [3, 4] seriam alocados para o segundo bin, e assim por diante.\n",
        "\n",
        "O eixo $y$ representa a frequência ou a contagem do número de observações no conjunto de dados que pertence a cada bin.\n",
        "\n",
        "Essencialmente, uma amostra de dados é transformada em um gráfico de barras, onde cada categoria no eixo $x$ representa um intervalo de valores de observação."
      ]
    },
    {
      "cell_type": "code",
      "metadata": {
        "colab_type": "code",
        "id": "a8p-n89_6X1o",
        "outputId": "efea43b1-22a5-4803-e291-e9c3e4ad43fe",
        "colab": {
          "base_uri": "https://localhost:8080/",
          "height": 269
        }
      },
      "source": [
        "# Exemplo de histograma\n",
        "from numpy.random import seed\n",
        "from numpy.random import randn\n",
        "from matplotlib import pyplot as plt\n",
        "seed(123456)\n",
        "\n",
        "# Gera números aleatórios\n",
        "x = randn(1000)\n",
        "\n",
        "# Cria histograma\n",
        "plt.hist(x)\n",
        "plt.show()"
      ],
      "execution_count": 18,
      "outputs": [
        {
          "output_type": "display_data",
          "data": {
            "image/png": "[encoded data removed]",
            "text/plain": [
              "<Figure size 432x288 with 1 Axes>"
            ]
          },
          "metadata": {
            "tags": []
          }
        }
      ]
    },
    {
      "cell_type": "markdown",
      "metadata": {
        "colab_type": "text",
        "id": "4B0yknNT6cgL"
      },
      "source": [
        "## Gráfico de dispersão"
      ]
    },
    {
      "cell_type": "markdown",
      "metadata": {
        "id": "W9dEcNXEGRFF",
        "colab_type": "text"
      },
      "source": [
        "Um gráfico de dispersão (em inglês, scatter plot) é geralmente usado para resumir a relação entre duas amostras de dados emparelhadas.\n",
        "\n",
        "Amostras pareadas de dados significam que duas medidas foram registradas para uma dada observação, como o peso e a altura de uma pessoa.\n",
        "\n",
        "O eixo $x$ representa os valores de observação para a primeira amostra e o eixo $y$ representa os valores de observação para a segunda amostra. Cada ponto no gráfico representa uma única observação."
      ]
    },
    {
      "cell_type": "code",
      "metadata": {
        "colab_type": "code",
        "id": "q-HNIVtW6cgO",
        "outputId": "98db8c06-7f6c-459f-b225-ed1356149a71",
        "colab": {
          "base_uri": "https://localhost:8080/",
          "height": 269
        }
      },
      "source": [
        "# Exemplo de gráfico de dispersão\n",
        "from numpy.random import seed\n",
        "from numpy.random import randn\n",
        "from matplotlib import pyplot\n",
        "seed(123456)\n",
        "\n",
        "# Cria primeira variável\n",
        "x = 20 * randn(1000) + 100\n",
        "# Cria segunda variável adicionando um ruído na primeira\n",
        "y = x + (10 * randn(1000) + 50)\n",
        "\n",
        "# Cria gráfico de dispersão\n",
        "plt.scatter(x, y)\n",
        "plt.show()"
      ],
      "execution_count": 20,
      "outputs": [
        {
          "output_type": "display_data",
          "data": {
            "image/png": "[encoded data removed]",
            "text/plain": [
              "<Figure size 432x288 with 1 Axes>"
            ]
          },
          "metadata": {
            "tags": []
          }
        }
      ]
    }
  ]
}