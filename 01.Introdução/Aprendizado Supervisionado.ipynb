{
  "nbformat": 4,
  "nbformat_minor": 0,
  "metadata": {
    "colab": {
      "name": "5 - Aprendizado Supervisionado",
      "version": "0.3.2",
      "provenance": [],
      "collapsed_sections": [],
      "include_colab_link": true
    },
    "kernelspec": {
      "name": "python3",
      "display_name": "Python 3"
    }
  },
  "cells": [
    {
      "cell_type": "markdown",
      "metadata": {
        "id": "view-in-github",
        "colab_type": "text"
      },
      "source": [
        "<a href=\"https://colab.research.google.com/github/williamwbs/learningML/blob/master/01.Introdu%C3%A7%C3%A3o/Aprendizado%20Supervisionado.ipynb\" target=\"_parent\"><img src=\"https://colab.research.google.com/assets/colab-badge.svg\" alt=\"Open In Colab\"/></a>"
      ]
    },
    {
      "cell_type": "code",
      "metadata": {
        "id": "yMfqhJRiHObQ",
        "colab_type": "code",
        "colab": {}
      },
      "source": [
        "from sklearn import datasets"
      ],
      "execution_count": 0,
      "outputs": []
    },
    {
      "cell_type": "markdown",
      "metadata": {
        "id": "x3ngT_ARaW3e",
        "colab_type": "text"
      },
      "source": [
        "## Regressão"
      ]
    },
    {
      "cell_type": "code",
      "metadata": {
        "id": "WqdLbFyKOb1-",
        "colab_type": "code",
        "colab": {}
      },
      "source": [
        "# Carrega dataset para tarefa de regressão\n",
        "house_prices_dataset = datasets.load_boston()"
      ],
      "execution_count": 0,
      "outputs": []
    },
    {
      "cell_type": "code",
      "metadata": {
        "id": "rnw8M4krPwEO",
        "colab_type": "code",
        "colab": {}
      },
      "source": [
        "# Extrai do dataframe as features e valor a ser predito\n",
        "train_percent = 0.7\n",
        "train_index = int(len(house_prices_dataset.data) * train_percent)\n",
        "test_index = int(len(house_prices_dataset.data) * (1 - train_percent))\n",
        "\n",
        "X = house_prices_dataset.data[:train_index]\n",
        "y = house_prices_dataset.target[:train_index]\n",
        "\n",
        "X_test = house_prices_dataset.data[-test_index:]\n",
        "y_test = house_prices_dataset.target[-test_index:]"
      ],
      "execution_count": 0,
      "outputs": []
    },
    {
      "cell_type": "markdown",
      "metadata": {
        "id": "SJ90OS3OY_xx",
        "colab_type": "text"
      },
      "source": [
        "Escolha o método de aprendizado para regressão: https://scikit-learn.org/stable/supervised_learning.html"
      ]
    },
    {
      "cell_type": "code",
      "metadata": {
        "id": "VJcOGMiMP_Wt",
        "colab_type": "code",
        "colab": {
          "base_uri": "https://localhost:8080/",
          "height": 35
        },
        "outputId": "1c13d40e-b3ce-4573-b566-ed09bfec5aaa"
      },
      "source": [
        "# Criar seu próprio modelo de predição para o problema em questão.\n",
        "# Para isso, você deve substituir a \"?\" pelo caminho/biblioteca correta\n",
        "\n",
        "# Primeiramente, faça o import do modelo\n",
        "from sklearn.tree import DecisionTreeRegressor\n",
        "\n",
        "# E então crie e treine o seu modelo\n",
        "model = DecisionTreeRegressor(max_depth=18)\n",
        "model_fit = model.fit(X, y)\n",
        "\n",
        "from sklearn.metrics import mean_absolute_error\n",
        "print('Mean Absolute Error:', mean_absolute_error(model_fit.predict(X), y))"
      ],
      "execution_count": 27,
      "outputs": [
        {
          "output_type": "stream",
          "text": [
            "Mean Absolute Error: 0.0\n"
          ],
          "name": "stdout"
        }
      ]
    },
    {
      "cell_type": "markdown",
      "metadata": {
        "id": "iXFiHi2F4AFb",
        "colab_type": "text"
      },
      "source": [
        "### Vamos avaliar o seu modelo para novas instâncias de teste"
      ]
    },
    {
      "cell_type": "code",
      "metadata": {
        "id": "5LRShFjMaogm",
        "colab_type": "code",
        "colab": {
          "base_uri": "https://localhost:8080/",
          "height": 35
        },
        "outputId": "34c497a8-b76a-470d-9899-4371d0170585"
      },
      "source": [
        "from sklearn.metrics import mean_absolute_error\n",
        "\n",
        "print('Mean Absolute Error:',\n",
        "      mean_absolute_error(model_fit.predict(X_test), y_test))\n"
      ],
      "execution_count": 12,
      "outputs": [
        {
          "output_type": "stream",
          "text": [
            "Mean Absolute Error: 4.5039735099337745\n"
          ],
          "name": "stdout"
        }
      ]
    },
    {
      "cell_type": "markdown",
      "metadata": {
        "id": "CpGno5heaZTy",
        "colab_type": "text"
      },
      "source": [
        "## Classificação"
      ]
    },
    {
      "cell_type": "code",
      "metadata": {
        "id": "6_3iwW9hadAe",
        "colab_type": "code",
        "colab": {}
      },
      "source": [
        "# Carrega dataset para tarefa de classificação (tem ou não tem a doença)\n",
        "cancer_dataset = datasets.load_breast_cancer()"
      ],
      "execution_count": 0,
      "outputs": []
    },
    {
      "cell_type": "code",
      "metadata": {
        "id": "mewqFIOdPRuj",
        "colab_type": "code",
        "colab": {}
      },
      "source": [
        "# Extrai do dataframe as features e valor a ser predito\n",
        "train_percent = 0.7\n",
        "train_index = int(len(cancer_dataset.data) * train_percent)\n",
        "test_index = int(len(cancer_dataset.data) * (1 - train_percent))\n",
        "\n",
        "X = cancer_dataset.data[:train_index]\n",
        "y = cancer_dataset.target[:train_index]\n",
        "\n",
        "X_test = cancer_dataset.data[-test_index:]\n",
        "y_test = cancer_dataset.target[-test_index:]"
      ],
      "execution_count": 0,
      "outputs": []
    },
    {
      "cell_type": "markdown",
      "metadata": {
        "id": "tWJj-rmW7BOV",
        "colab_type": "text"
      },
      "source": [
        "Escolha o método de aprendizado para classificação: https://scikit-learn.org/stable/supervised_learning.html"
      ]
    },
    {
      "cell_type": "code",
      "metadata": {
        "colab_type": "code",
        "id": "QW2BD0KV4YJh",
        "colab": {
          "base_uri": "https://localhost:8080/",
          "height": 35
        },
        "outputId": "1f4c0c47-2a3c-4811-b604-9a9b74ce1cb7"
      },
      "source": [
        "# Criar seu próprio modelo de predição para o problema em questão.\n",
        "# Para isso, você deve substituir a \"?\" pelo caminho/biblioteca correta\n",
        "\n",
        "# Primeiramente, faça o import do modelo\n",
        "from sklearn.tree import DecisionTreeClassifier\n",
        "\n",
        "# E então crie e treine o seu modelo\n",
        "model = DecisionTreeClassifier()\n",
        "model_fit = model.fit(X, y)\n",
        "\n",
        "from sklearn.metrics import accuracy_score\n",
        "print('Model Accuracy:', accuracy_score(model_fit.predict(X), y))"
      ],
      "execution_count": 17,
      "outputs": [
        {
          "output_type": "stream",
          "text": [
            "Model Accuracy: 1.0\n"
          ],
          "name": "stdout"
        }
      ]
    },
    {
      "cell_type": "markdown",
      "metadata": {
        "colab_type": "text",
        "id": "amqs7bHk4YJp"
      },
      "source": [
        "### Vamos avaliar o seu modelo para novas instâncias de teste"
      ]
    },
    {
      "cell_type": "code",
      "metadata": {
        "colab_type": "code",
        "id": "dKtMUX3j4YJr",
        "colab": {
          "base_uri": "https://localhost:8080/",
          "height": 35
        },
        "outputId": "ec933a6d-5e17-4bcb-ce94-56ad363e40c7"
      },
      "source": [
        "from sklearn.metrics import accuracy_score\n",
        "print('Model Accuracy:', accuracy_score(model_fit.predict(X_test), y_test))"
      ],
      "execution_count": 18,
      "outputs": [
        {
          "output_type": "stream",
          "text": [
            "Model Accuracy: 0.8470588235294118\n"
          ],
          "name": "stdout"
        }
      ]
    }
  ]
}